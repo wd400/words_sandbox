{
 "cells": [
  {
   "cell_type": "code",
   "execution_count": 1,
   "metadata": {},
   "outputs": [],
   "source": [
    "from collections import defaultdict"
   ]
  },
  {
   "cell_type": "code",
   "execution_count": 2,
   "metadata": {},
   "outputs": [],
   "source": [
    "anagrams=defaultdict(set)"
   ]
  },
  {
   "cell_type": "code",
   "execution_count": 3,
   "metadata": {},
   "outputs": [
    {
     "data": {
      "text/plain": [
       "'abc'"
      ]
     },
     "execution_count": 3,
     "metadata": {},
     "output_type": "execute_result"
    }
   ],
   "source": [
    "''.join(sorted(\"bca\"))"
   ]
  },
  {
   "cell_type": "code",
   "execution_count": 4,
   "metadata": {},
   "outputs": [],
   "source": [
    "with open (\"words_alpha.txt\",'r') as f:\n",
    "    while word:=f.readline():\n",
    "        word=word.strip()\n",
    "        key=''.join(sorted(word))\n",
    "        anagrams[key].add(word)"
   ]
  },
  {
   "cell_type": "code",
   "execution_count": 5,
   "metadata": {},
   "outputs": [],
   "source": [
    "cleaned_anagrams=[]"
   ]
  },
  {
   "cell_type": "code",
   "execution_count": 6,
   "metadata": {},
   "outputs": [],
   "source": [
    "for key in anagrams.keys():\n",
    "    if len(anagrams[key])>2 and len(next(iter(anagrams[key])))==7:\n",
    "        cleaned_anagrams.append(anagrams[key])"
   ]
  },
  {
   "cell_type": "code",
   "execution_count": 7,
   "metadata": {},
   "outputs": [
    {
     "data": {
      "text/plain": [
       "1699"
      ]
     },
     "execution_count": 7,
     "metadata": {},
     "output_type": "execute_result"
    }
   ],
   "source": [
    "len(cleaned_anagrams)"
   ]
  },
  {
   "cell_type": "code",
   "execution_count": 8,
   "metadata": {},
   "outputs": [],
   "source": [
    "import matplotlib.pyplot as plt\n",
    "from functools import reduce\n",
    "import numpy as np"
   ]
  },
  {
   "cell_type": "code",
   "execution_count": 9,
   "metadata": {},
   "outputs": [
    {
     "name": "stdout",
     "output_type": "stream",
     "text": [
      "[2, 1, 7, 4, 3, 6, 5]\n",
      "[2, 1, 7, 5, 3, 6, 4]\n"
     ]
    }
   ],
   "source": [
    "def find_perms(word1, word2, visited, permute=[]):\n",
    "    if len(permute) == len(word1): # We found a valid permutation\n",
    "        yield permute\n",
    "        return\n",
    "    for i in range(len(word1)): # Try all positions\n",
    "        if visited[i]: # Skip if visited\n",
    "            continue\n",
    "        if word1[i] != word2[len(permute)]: # Check if we can map the word1 character to be next word2 character\n",
    "            continue\n",
    "        visited[i] = True\n",
    "        yield from find_perms(word1, word2, visited, permute + [i+1])\n",
    "        visited[i] = False # Unmark the position\n",
    "\n",
    "word1 = 'abidden'\n",
    "word2 = 'bandied'\n",
    "visited = [False] * len(word1)\n",
    "for perm in find_perms(word1, word2, visited):\n",
    "    print(perm)\n"
   ]
  },
  {
   "cell_type": "code",
   "execution_count": 10,
   "metadata": {},
   "outputs": [],
   "source": [
    "from itertools import permutations\n",
    "\n",
    "P=7\n",
    "\n",
    "# Define your list of elements\n",
    "elements = list(range(1,P+1))\n",
    "\n",
    "# Generate all permutations of size 6\n",
    "all_permutations = permutations(elements, P)\n",
    "\n",
    "# Convert the permutations to a list for easy printing or further processing\n",
    "all_permutations_list = list(all_permutations)"
   ]
  },
  {
   "cell_type": "code",
   "execution_count": 11,
   "metadata": {},
   "outputs": [],
   "source": [
    "all_permutations_dict={\n",
    "}\n",
    "reverse_all_permutations_dict={}"
   ]
  },
  {
   "cell_type": "code",
   "execution_count": 12,
   "metadata": {},
   "outputs": [],
   "source": [
    "for i,permutation in enumerate(all_permutations_list):\n",
    "    permut=reduce(lambda x, y: x * 10 + y, permutation)\n",
    "    all_permutations_dict[permut]=i\n",
    "    reverse_all_permutations_dict[i]=permut"
   ]
  },
  {
   "cell_type": "code",
   "execution_count": 13,
   "metadata": {},
   "outputs": [],
   "source": [
    "X=[]\n",
    "Y=[]\n",
    "for anagram_set in cleaned_anagrams:\n",
    "    words_list = list(anagram_set)\n",
    "    for i in range(len(words_list)):\n",
    "        for j in range(i + 1, len(words_list)):\n",
    "            word1, word2 = words_list[i], words_list[j]\n",
    "            visited = [False] * len(word1)\n",
    "            for perm in find_perms(word1, word2, visited):\n",
    "                X.append(word1)\n",
    "                Y.append(all_permutations_dict[\n",
    "                    reduce(lambda x, y: x * 10 + y, perm)\n",
    "                ])"
   ]
  },
  {
   "cell_type": "code",
   "execution_count": 14,
   "metadata": {},
   "outputs": [],
   "source": [
    "def one_hot_encode(number, total_values):\n",
    "    encoded = np.zeros(total_values)\n",
    "    encoded[number] = 1\n",
    "    return encoded"
   ]
  },
  {
   "cell_type": "code",
   "execution_count": 15,
   "metadata": {},
   "outputs": [],
   "source": [
    "import math\n",
    "nb_permutations=math.factorial(7)\n",
    "for i,y in enumerate(Y):\n",
    "    Y[i]=  one_hot_encode(y,nb_permutations)\n"
   ]
  },
  {
   "cell_type": "code",
   "execution_count": 16,
   "metadata": {},
   "outputs": [],
   "source": [
    "Y=np.array(Y)"
   ]
  },
  {
   "cell_type": "code",
   "execution_count": 17,
   "metadata": {},
   "outputs": [],
   "source": [
    "letters=set.union(*(set(l for l in w) for w in X))\n",
    "nb_letters=len(letters)"
   ]
  },
  {
   "cell_type": "code",
   "execution_count": 18,
   "metadata": {},
   "outputs": [],
   "source": [
    "from sklearn.preprocessing import OneHotEncoder\n",
    "letter_to_index=dict(zip(letters,list(range(len(letters)))))\n",
    "X = [[ one_hot_encode(letter_to_index[l],nb_letters) for l in word] for word in X]\n",
    "X = np.array(X)\n"
   ]
  },
  {
   "cell_type": "code",
   "execution_count": 19,
   "metadata": {},
   "outputs": [
    {
     "data": {
      "text/plain": [
       "(15929, 7, 25)"
      ]
     },
     "execution_count": 19,
     "metadata": {},
     "output_type": "execute_result"
    }
   ],
   "source": [
    "X.shape"
   ]
  },
  {
   "cell_type": "code",
   "execution_count": 20,
   "metadata": {},
   "outputs": [
    {
     "data": {
      "text/plain": [
       "(15929, 5040)"
      ]
     },
     "execution_count": 20,
     "metadata": {},
     "output_type": "execute_result"
    }
   ],
   "source": [
    "Y.shape"
   ]
  },
  {
   "cell_type": "code",
   "execution_count": 41,
   "metadata": {},
   "outputs": [
    {
     "name": "stdout",
     "output_type": "stream",
     "text": [
      "Epoch 1/2\n",
      "448/448 [==============================] - 18s 37ms/step - loss: 8.3497 - val_loss: 8.0582\n",
      "Epoch 2/2\n",
      "448/448 [==============================] - 16s 35ms/step - loss: 6.4962 - val_loss: 7.8878\n"
     ]
    }
   ],
   "source": [
    "import tensorflow as tf\n",
    "from tensorflow.keras.models import Sequential\n",
    "from tensorflow.keras.layers import Dense\n",
    "\n",
    "# Assuming X and Y are your input and output data\n",
    "X_shape = X.shape\n",
    "Y_shape = Y.shape\n",
    "\n",
    "# Reshape X to be a 2D array\n",
    "X_reshaped = X.reshape((X_shape[0], -1))\n",
    "\n",
    "# Create a one-layer neural network\n",
    "model = Sequential()\n",
    "#model.add(Dense(units=5, input_shape=(X_reshaped.shape[1],), activation='relu'))  # Intermediary layer\n",
    "model.add(Dense(units=Y_shape[1], input_shape=(X_reshaped.shape[1],), activation='softmax'))\n",
    "\n",
    "# Compile the model\n",
    "model.compile(optimizer='adam', loss='categorical_crossentropy')\n",
    "\n",
    "# Train the model\n",
    "history = model.fit(X_reshaped, Y, epochs=2, batch_size=32, validation_split=0.1, )\n"
   ]
  },
  {
   "cell_type": "code",
   "execution_count": 35,
   "metadata": {},
   "outputs": [
    {
     "data": {
      "image/png": "[encoded data removed]",
      "text/plain": [
       "<IPython.core.display.Image object>"
      ]
     },
     "execution_count": 35,
     "metadata": {},
     "output_type": "execute_result"
    }
   ],
   "source": [
    "tf.keras.utils.plot_model(model, show_shapes=True,show_layer_activations=True,)"
   ]
  },
  {
   "cell_type": "code",
   "execution_count": 42,
   "metadata": {},
   "outputs": [
    {
     "data": {
      "image/png": "[encoded data removed]",
      "text/plain": [
       "<Figure size 640x480 with 1 Axes>"
      ]
     },
     "metadata": {},
     "output_type": "display_data"
    }
   ],
   "source": [
    "# Plot the training history\n",
    "plt.plot(history.history['loss'], label='Training Loss')\n",
    "plt.plot(history.history['val_loss'], label='Validation Loss')\n",
    "plt.title('Training and Validation Loss')\n",
    "plt.xlabel('Epochs')\n",
    "plt.ylabel('Loss')\n",
    "plt.legend()\n",
    "plt.show()"
   ]
  },
  {
   "cell_type": "code",
   "execution_count": 50,
   "metadata": {},
   "outputs": [
    {
     "name": "stdout",
     "output_type": "stream",
     "text": [
      "mondila 0.012105055153369904\n",
      "aimondl 0.0077787842601537704\n",
      "moindla 0.004441909957677126\n",
      "nomdial 0.004292315803468227\n",
      "lmondia 0.003974355291575193\n"
     ]
    }
   ],
   "source": [
    "#word_test=\"testing\"\n",
    "word_test=\"mondial\"\n",
    "\n",
    "K=5\n",
    "\n",
    "predictions=model(\n",
    "np.array([[ one_hot_encode(letter_to_index[l],nb_letters) for l in word_test]]).reshape(1,-1)\n",
    ")\n",
    "\n",
    "top_k_indices = np.argsort(predictions[0])[-K:]\n",
    "\n",
    "top_k_results = sorted( [(index, float(predictions[0][index])) for index in top_k_indices],key=lambda x:-x[1])\n",
    "\n",
    "\n",
    "def switch_string(original_string, permutation):\n",
    "    switched_string = ''.join(original_string[int(index)-1] for index in permutation)\n",
    "    return switched_string\n",
    "\n",
    "for index, precision in top_k_results:\n",
    "    print(\n",
    "        switch_string(\n",
    "word_test,\n",
    "        str(reverse_all_permutations_dict[index]).zfill(7)\n",
    "\n",
    "        ),\n",
    "        precision\n",
    "        \n",
    "        )\n"
   ]
  },
  {
   "cell_type": "code",
   "execution_count": null,
   "metadata": {},
   "outputs": [],
   "source": []
  }
 ],
 "metadata": {
  "kernelspec": {
   "display_name": "deepchem",
   "language": "python",
   "name": "python3"
  },
  "language_info": {
   "codemirror_mode": {
    "name": "ipython",
    "version": 3
   },
   "file_extension": ".py",
   "mimetype": "text/x-python",
   "name": "python",
   "nbconvert_exporter": "python",
   "pygments_lexer": "ipython3",
   "version": "3.9.16"
  }
 },
 "nbformat": 4,
 "nbformat_minor": 2
}
